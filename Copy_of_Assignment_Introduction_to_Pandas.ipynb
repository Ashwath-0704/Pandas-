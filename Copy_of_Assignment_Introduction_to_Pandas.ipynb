{
  "nbformat": 4,
  "nbformat_minor": 0,
  "metadata": {
    "colab": {
      "name": "Copy of Assignment - Introduction to Pandas.ipynb",
      "provenance": [],
      "collapsed_sections": []
    },
    "kernelspec": {
      "name": "python3",
      "display_name": "Python 3"
    }
  },
  "cells": [
    {
      "cell_type": "markdown",
      "metadata": {
        "id": "MKXTc2Tas23T"
      },
      "source": [
        "# <u> Use only those concepts which have been taught till now </u>"
      ]
    },
    {
      "cell_type": "code",
      "metadata": {
        "id": "0V3Xtuh9siNn"
      },
      "source": [
        "import numpy as np\n",
        "import pandas as pd"
      ],
      "execution_count": 1,
      "outputs": []
    },
    {
      "cell_type": "markdown",
      "metadata": {
        "id": "Ase3qjp9cJUC"
      },
      "source": [
        "# <u>**Problem 1**</u>\n",
        "\n",
        "### You are given a list of urls. You need to extract the domain name from the urls in another list. Also you need to extract the ending string which the url ends with. \n",
        "\n",
        "### For example, https://www.example.com/market.php -- In this example, domain name is <code>www.example.com</code> and the ending string is <code>php</code>\n",
        "\n"
      ]
    },
    {
      "cell_type": "code",
      "metadata": {
        "id": "xj0SaK7smcPu"
      },
      "source": [
        "# List of urls\n",
        "url_list = ['https://blog.hubspot.com/marketing/parts-url',\n",
        "            'https://www.almabetter.com/enrollments',\n",
        "            'https://pandas.pydata.org/pandas-docs/stable/reference/api/pandas.DataFrame.rename.html',\n",
        "            'https://www.programiz.com/python-programming/list']"
      ],
      "execution_count": 3,
      "outputs": []
    },
    {
      "cell_type": "code",
      "metadata": {
        "id": "N1hhYCZw3V1c",
        "colab": {
          "base_uri": "https://localhost:8080/"
        },
        "outputId": "649a31b6-cf58-4a86-b105-e5c96adee67e"
      },
      "source": [
        "# Extract the domains and the ending string. Hint : use the split method for a string\n",
        "url_list_split=[]\n",
        "for a in url_list:\n",
        "  split1=a.split(\"/\")\n",
        "  url_list_split.append(split1)\n",
        "\n",
        "#  domains name in website\n",
        "domain_list=[i[2:3] for i in url_list_split ]\n",
        "print(domain_list)\n",
        "\n",
        "# ending sting in website\n",
        "ending_string_list_1 = [a[-1] for a in url_list_split ]\n",
        "ending_string_list=[]\n",
        "for p in ending_string_list_1:\n",
        "  if \"-\" in p:\n",
        "    split4=p.split(\"-\")\n",
        "    ending_string_list.append(split4[-1])\n",
        "  elif \".\" in p:\n",
        "    split5=p.split(\".\")\n",
        "    ending_string_list.append(split5[-1])\n",
        "  else:\n",
        "    ending_string_list.append(p)\n",
        "print(ending_string_list)"
      ],
      "execution_count": 129,
      "outputs": [
        {
          "output_type": "stream",
          "text": [
            "[['blog.hubspot.com'], ['www.almabetter.com'], ['pandas.pydata.org'], ['www.programiz.com']]\n",
            "['url', 'enrollments', 'html', 'list']\n"
          ],
          "name": "stdout"
        }
      ]
    },
    {
      "cell_type": "markdown",
      "metadata": {
        "id": "EVgY54DrvLEF"
      },
      "source": [
        "## Next create a pandas dataframe with the above three lists."
      ]
    },
    {
      "cell_type": "code",
      "metadata": {
        "id": "2osXcjvpu6Uz",
        "colab": {
          "base_uri": "https://localhost:8080/",
          "height": 172
        },
        "outputId": "ac407f61-ea14-400d-8705-a69635220388"
      },
      "source": [
        "# Your code here. Hint : zip the three lists\n",
        "pandas_dataframe=pd.DataFrame(list(zip(url_list,domain_list,ending_string_list)),columns =[\"Website\",\"Domain\",\"End String\"])\n",
        "\n",
        "pandas_dataframe\n"
      ],
      "execution_count": 138,
      "outputs": [
        {
          "output_type": "execute_result",
          "data": {
            "text/html": [
              "<div>\n",
              "<style scoped>\n",
              "    .dataframe tbody tr th:only-of-type {\n",
              "        vertical-align: middle;\n",
              "    }\n",
              "\n",
              "    .dataframe tbody tr th {\n",
              "        vertical-align: top;\n",
              "    }\n",
              "\n",
              "    .dataframe thead th {\n",
              "        text-align: right;\n",
              "    }\n",
              "</style>\n",
              "<table border=\"1\" class=\"dataframe\">\n",
              "  <thead>\n",
              "    <tr style=\"text-align: right;\">\n",
              "      <th></th>\n",
              "      <th>Website</th>\n",
              "      <th>Domain</th>\n",
              "      <th>End String</th>\n",
              "    </tr>\n",
              "  </thead>\n",
              "  <tbody>\n",
              "    <tr>\n",
              "      <th>0</th>\n",
              "      <td>https://blog.hubspot.com/marketing/parts-url</td>\n",
              "      <td>[blog.hubspot.com]</td>\n",
              "      <td>url</td>\n",
              "    </tr>\n",
              "    <tr>\n",
              "      <th>1</th>\n",
              "      <td>https://www.almabetter.com/enrollments</td>\n",
              "      <td>[www.almabetter.com]</td>\n",
              "      <td>enrollments</td>\n",
              "    </tr>\n",
              "    <tr>\n",
              "      <th>2</th>\n",
              "      <td>https://pandas.pydata.org/pandas-docs/stable/r...</td>\n",
              "      <td>[pandas.pydata.org]</td>\n",
              "      <td>html</td>\n",
              "    </tr>\n",
              "    <tr>\n",
              "      <th>3</th>\n",
              "      <td>https://www.programiz.com/python-programming/list</td>\n",
              "      <td>[www.programiz.com]</td>\n",
              "      <td>list</td>\n",
              "    </tr>\n",
              "  </tbody>\n",
              "</table>\n",
              "</div>"
            ],
            "text/plain": [
              "                                             Website  ...   End String\n",
              "0       https://blog.hubspot.com/marketing/parts-url  ...          url\n",
              "1             https://www.almabetter.com/enrollments  ...  enrollments\n",
              "2  https://pandas.pydata.org/pandas-docs/stable/r...  ...         html\n",
              "3  https://www.programiz.com/python-programming/list  ...         list\n",
              "\n",
              "[4 rows x 3 columns]"
            ]
          },
          "metadata": {},
          "execution_count": 138
        }
      ]
    }
  ]
}